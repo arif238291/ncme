{
 "cells": [
  {
   "cell_type": "markdown",
   "id": "cd6b5af9",
   "metadata": {},
   "source": [
    "# Welcome to dataskool\n",
    "## Fuck everything"
   ]
  },
  {
   "cell_type": "code",
   "execution_count": null,
   "id": "2f4333ee",
   "metadata": {},
   "outputs": [],
   "source": [
    "print(\"welcome to new world\")"
   ]
  },
  {
   "cell_type": "code",
   "execution_count": 5,
   "id": "581501c6",
   "metadata": {},
   "outputs": [
    {
     "data": {
      "text/plain": [
       "10"
      ]
     },
     "execution_count": 5,
     "metadata": {},
     "output_type": "execute_result"
    }
   ],
   "source": [
    "total=0\n",
    "for i in range(1, 5):\n",
    "    total=total+i\n",
    "total"
   ]
  },
  {
   "cell_type": "markdown",
   "id": "29c2880e",
   "metadata": {},
   "source": []
  },
  {
   "cell_type": "code",
   "execution_count": 14,
   "id": "c39bf90b",
   "metadata": {},
   "outputs": [
    {
     "data": {
      "text/plain": [
       "['arif', ['bd']]"
      ]
     },
     "execution_count": 14,
     "metadata": {},
     "output_type": "execute_result"
    }
   ],
   "source": [
    "names=['arif']\n",
    "country=['bd']\n",
    "names.append(country)\n",
    "names"
   ]
  },
  {
   "cell_type": "code",
   "execution_count": 1,
   "id": "06a7ba5d",
   "metadata": {},
   "outputs": [
    {
     "name": "stdout",
     "output_type": "stream",
     "text": [
      "[[0.2213115  0.40983607 0.36885243]]\n"
     ]
    }
   ],
   "source": [
    "import numpy as np\n",
    "Q = np.matrix([[0,1,0],[0,0.1,0.9],[0.6,0.4,0]])\n",
    "S_initial = np.matrix([[0.3, 0.4 , 0.3]])\n",
    "epsilon = 1\n",
    "while epsilon > 10e-8:\n",
    "    S_next = np.dot(S_initial, Q)\n",
    "    epsilon = np.sqrt(np.sum(np.square(S_next - S_initial)))\n",
    "    S_initial = S_next\n",
    "print(S_initial)"
   ]
  },
  {
   "cell_type": "code",
   "execution_count": 2,
   "id": "24595604",
   "metadata": {},
   "outputs": [
    {
     "data": {
      "text/plain": [
       "matrix([[0. , 1. , 0. ],\n",
       "        [0. , 0.1, 0.9],\n",
       "        [0.6, 0.4, 0. ]])"
      ]
     },
     "execution_count": 2,
     "metadata": {},
     "output_type": "execute_result"
    }
   ],
   "source": [
    "import numpy as np\n",
    "Q = np.matrix([[0,1,0],[0,0.1,0.9],[0.6,0.4,0]])\n",
    "Q\n"
   ]
  },
  {
   "cell_type": "code",
   "execution_count": null,
   "id": "3b7d3545",
   "metadata": {},
   "outputs": [],
   "source": []
  }
 ],
 "metadata": {
  "kernelspec": {
   "display_name": "Python 3 (ipykernel)",
   "language": "python",
   "name": "python3"
  },
  "language_info": {
   "codemirror_mode": {
    "name": "ipython",
    "version": 3
   },
   "file_extension": ".py",
   "mimetype": "text/x-python",
   "name": "python",
   "nbconvert_exporter": "python",
   "pygments_lexer": "ipython3",
   "version": "3.11.5"
  }
 },
 "nbformat": 4,
 "nbformat_minor": 5
}
