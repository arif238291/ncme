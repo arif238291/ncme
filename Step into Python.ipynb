{
  "cells": [
    {
      "cell_type": "markdown",
      "id": "cd6b5af9",
      "metadata": {
        "id": "cd6b5af9"
      },
      "source": [
        "# Welcome to dataskool\n",
        "## Fuck everything"
      ]
    },
    {
      "cell_type": "code",
      "execution_count": null,
      "id": "2f4333ee",
      "metadata": {
        "id": "2f4333ee"
      },
      "outputs": [],
      "source": [
        "print(\"welcome to new world\")"
      ]
    },
    {
      "cell_type": "code",
      "execution_count": null,
      "id": "581501c6",
      "metadata": {
        "id": "581501c6",
        "outputId": "a59adede-4d85-4aa4-9041-944bc475a735"
      },
      "outputs": [
        {
          "data": {
            "text/plain": [
              "10"
            ]
          },
          "execution_count": 5,
          "metadata": {},
          "output_type": "execute_result"
        }
      ],
      "source": [
        "total=0\n",
        "for i in range(1, 5):\n",
        "    total=total+i\n",
        "total"
      ]
    },
    {
      "cell_type": "markdown",
      "id": "29c2880e",
      "metadata": {
        "id": "29c2880e"
      },
      "source": []
    },
    {
      "cell_type": "code",
      "execution_count": null,
      "id": "c39bf90b",
      "metadata": {
        "id": "c39bf90b",
        "outputId": "512eb46c-733d-4c6d-f388-defb049609e5"
      },
      "outputs": [
        {
          "data": {
            "text/plain": [
              "['arif', ['bd']]"
            ]
          },
          "execution_count": 14,
          "metadata": {},
          "output_type": "execute_result"
        }
      ],
      "source": [
        "names=['arif']\n",
        "country=['bd']\n",
        "names.append(country)\n",
        "names"
      ]
    },
    {
      "cell_type": "code",
      "execution_count": null,
      "id": "06a7ba5d",
      "metadata": {
        "id": "06a7ba5d",
        "outputId": "3861f3f1-4e65-4449-861e-e3323dba3018"
      },
      "outputs": [
        {
          "name": "stdout",
          "output_type": "stream",
          "text": [
            "[[0.2213115  0.40983607 0.36885243]]\n"
          ]
        }
      ],
      "source": [
        "import numpy as np\n",
        "Q = np.matrix([[0,1,0],[0,0.1,0.9],[0.6,0.4,0]])\n",
        "S_initial = np.matrix([[0.3, 0.4 , 0.3]])\n",
        "epsilon = 1\n",
        "while epsilon > 10e-8:\n",
        "    S_next = np.dot(S_initial, Q)\n",
        "    epsilon = np.sqrt(np.sum(np.square(S_next - S_initial)))\n",
        "    S_initial = S_next\n",
        "print(S_initial)"
      ]
    },
    {
      "cell_type": "code",
      "execution_count": null,
      "id": "24595604",
      "metadata": {
        "id": "24595604",
        "outputId": "94b75718-abb1-47d6-8fac-58cb034deef6"
      },
      "outputs": [
        {
          "data": {
            "text/plain": [
              "matrix([[0. , 1. , 0. ],\n",
              "        [0. , 0.1, 0.9],\n",
              "        [0.6, 0.4, 0. ]])"
            ]
          },
          "execution_count": 2,
          "metadata": {},
          "output_type": "execute_result"
        }
      ],
      "source": [
        "import numpy as np\n",
        "Q = np.matrix([[0,1,0],[0,0.1,0.9],[0.6,0.4,0]])\n",
        "Q\n"
      ]
    },
    {
      "cell_type": "code",
      "execution_count": null,
      "id": "3b7d3545",
      "metadata": {
        "id": "3b7d3545"
      },
      "outputs": [],
      "source": []
    },
    {
      "cell_type": "markdown",
      "source": [
        "test"
      ],
      "metadata": {
        "id": "tX-Pyc6r7IO_"
      },
      "id": "tX-Pyc6r7IO_"
    }
  ],
  "metadata": {
    "kernelspec": {
      "display_name": "Python 3 (ipykernel)",
      "language": "python",
      "name": "python3"
    },
    "language_info": {
      "codemirror_mode": {
        "name": "ipython",
        "version": 3
      },
      "file_extension": ".py",
      "mimetype": "text/x-python",
      "name": "python",
      "nbconvert_exporter": "python",
      "pygments_lexer": "ipython3",
      "version": "3.11.5"
    },
    "colab": {
      "provenance": []
    }
  },
  "nbformat": 4,
  "nbformat_minor": 5
}